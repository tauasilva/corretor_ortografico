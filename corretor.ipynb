{
 "cells": [
  {
   "cell_type": "markdown",
   "source": [
    "# Corretor Ortográfico"
   ],
   "metadata": {}
  },
  {
   "cell_type": "code",
   "execution_count": 26,
   "source": [
    "import nltk\r\n",
    "nltk.download('punkt')\r\n",
    "\r\n",
    "\r\n",
    "with open(\"artigos.txt\", encoding=\"utf8\") as f:\r\n",
    "    artigos = f.read()\r\n",
    "    \r\n",
    "#print(artigos[:505])\r\n",
    "    "
   ],
   "outputs": [
    {
     "output_type": "stream",
     "name": "stderr",
     "text": [
      "[nltk_data] Downloading package punkt to\n",
      "[nltk_data]     C:\\Users\\taua.fagundes\\AppData\\Roaming\\nltk_data...\n",
      "[nltk_data]   Package punkt is already up-to-date!\n"
     ]
    }
   ],
   "metadata": {}
  },
  {
   "cell_type": "code",
   "execution_count": 27,
   "source": [
    "def separa_palavras(lista_tokens):\r\n",
    "    lista_palavras = []\r\n",
    "    for token in lista_tokens:\r\n",
    "        if token.isalpha():\r\n",
    "            lista_palavras.append(token)\r\n",
    "    \r\n",
    "    return lista_palavras"
   ],
   "outputs": [],
   "metadata": {}
  },
  {
   "cell_type": "code",
   "execution_count": 28,
   "source": [
    "lista_tokens = nltk.tokenize.word_tokenize(artigos)\r\n",
    "\r\n",
    "palavras_separadas = separa_palavras(lista_tokens)\r\n",
    "\r\n",
    "len(palavras_separadas)"
   ],
   "outputs": [
    {
     "output_type": "execute_result",
     "data": {
      "text/plain": [
       "403104"
      ]
     },
     "metadata": {},
     "execution_count": 28
    }
   ],
   "metadata": {}
  },
  {
   "cell_type": "code",
   "execution_count": 29,
   "source": [
    "def normalizacao(lista_de_palavras):\r\n",
    "    lista_normalizada = []\r\n",
    "    for palavra in lista_de_palavras:\r\n",
    "        lista_normalizada.append(palavra.lower())\r\n",
    "    \r\n",
    "    return lista_normalizada"
   ],
   "outputs": [],
   "metadata": {}
  },
  {
   "cell_type": "code",
   "execution_count": 30,
   "source": [
    "lista_normalizada = normalizacao(palavras_separadas)\r\n",
    "\r\n",
    "print(lista_normalizada[:100])"
   ],
   "outputs": [
    {
     "output_type": "stream",
     "name": "stdout",
     "text": [
      "['imagem', 'temos', 'a', 'seguinte', 'classe', 'que', 'representa', 'um', 'usuário', 'no', 'nosso', 'sistema', 'java', 'para', 'salvar', 'um', 'novo', 'usuário', 'várias', 'validações', 'são', 'feitas', 'como', 'por', 'exemplo', 'ver', 'se', 'o', 'nome', 'só', 'contém', 'letras', 'o', 'cpf', 'só', 'números', 'e', 'ver', 'se', 'o', 'usuário', 'possui', 'no', 'mínimo', 'anos', 'veja', 'o', 'método', 'que', 'faz', 'essa', 'validação', 'java', 'suponha', 'agora', 'que', 'eu', 'tenha', 'outra', 'classe', 'a', 'classe', 'produto', 'que', 'contém', 'um', 'atributo', 'nome', 'e', 'eu', 'quero', 'fazer', 'a', 'mesma', 'validação', 'que', 'fiz', 'para', 'o', 'nome', 'do', 'usuário', 'ver', 'se', 'só', 'contém', 'letras', 'e', 'aí', 'vou', 'criar', 'outro', 'método', 'para', 'fazer', 'a', 'mesma', 'validação', 'ou', 'criar']\n"
     ]
    }
   ],
   "metadata": {}
  },
  {
   "cell_type": "code",
   "execution_count": 31,
   "source": [
    "len(set(lista_normalizada))"
   ],
   "outputs": [
    {
     "output_type": "execute_result",
     "data": {
      "text/plain": [
       "18465"
      ]
     },
     "metadata": {},
     "execution_count": 31
    }
   ],
   "metadata": {}
  },
  {
   "cell_type": "code",
   "execution_count": 32,
   "source": [
    "lista = [1,2,3]\r\n",
    "lista[0]\r\n",
    "\r\n"
   ],
   "outputs": [
    {
     "output_type": "execute_result",
     "data": {
      "text/plain": [
       "1"
      ]
     },
     "metadata": {},
     "execution_count": 32
    }
   ],
   "metadata": {}
  },
  {
   "cell_type": "code",
   "execution_count": 33,
   "source": [
    "def insere_letras(fatias):\r\n",
    "    novas_palavras = []\r\n",
    "    letras = 'abcdefghijklmnopqrstuvwxyzàáâãèéêìíîòóôõùúûç'\r\n",
    "\r\n",
    "    for E,D in fatias:\r\n",
    "        for letra in letras:\r\n",
    "            novas_palavras.append(E + letra + D)\r\n",
    "\r\n",
    "    return novas_palavras"
   ],
   "outputs": [],
   "metadata": {}
  },
  {
   "cell_type": "code",
   "execution_count": 34,
   "source": [
    "palavra_exemplo = \"lgica\"\r\n",
    "def gerador_palavras(palavra):\r\n",
    "\r\n",
    "    fatias = []\r\n",
    "\r\n",
    "\r\n",
    "    for i in range(len(palavra)+1):\r\n",
    "        fatias.append((palavra[:i],palavra[i:]))\r\n",
    "\r\n",
    "    palavras_geradas = insere_letras(fatias)\r\n",
    "    \r\n",
    "    # print(fatias)\r\n",
    "    return palavras_geradas\r\n",
    "\r\n",
    "\r\n",
    "gerador_palavras(palavra_exemplo)"
   ],
   "outputs": [
    {
     "output_type": "execute_result",
     "data": {
      "text/plain": [
       "['algica',\n",
       " 'blgica',\n",
       " 'clgica',\n",
       " 'dlgica',\n",
       " 'elgica',\n",
       " 'flgica',\n",
       " 'glgica',\n",
       " 'hlgica',\n",
       " 'ilgica',\n",
       " 'jlgica',\n",
       " 'klgica',\n",
       " 'llgica',\n",
       " 'mlgica',\n",
       " 'nlgica',\n",
       " 'olgica',\n",
       " 'plgica',\n",
       " 'qlgica',\n",
       " 'rlgica',\n",
       " 'slgica',\n",
       " 'tlgica',\n",
       " 'ulgica',\n",
       " 'vlgica',\n",
       " 'wlgica',\n",
       " 'xlgica',\n",
       " 'ylgica',\n",
       " 'zlgica',\n",
       " 'àlgica',\n",
       " 'álgica',\n",
       " 'âlgica',\n",
       " 'ãlgica',\n",
       " 'èlgica',\n",
       " 'élgica',\n",
       " 'êlgica',\n",
       " 'ìlgica',\n",
       " 'ílgica',\n",
       " 'îlgica',\n",
       " 'òlgica',\n",
       " 'ólgica',\n",
       " 'ôlgica',\n",
       " 'õlgica',\n",
       " 'ùlgica',\n",
       " 'úlgica',\n",
       " 'ûlgica',\n",
       " 'çlgica',\n",
       " 'lagica',\n",
       " 'lbgica',\n",
       " 'lcgica',\n",
       " 'ldgica',\n",
       " 'legica',\n",
       " 'lfgica',\n",
       " 'lggica',\n",
       " 'lhgica',\n",
       " 'ligica',\n",
       " 'ljgica',\n",
       " 'lkgica',\n",
       " 'llgica',\n",
       " 'lmgica',\n",
       " 'lngica',\n",
       " 'logica',\n",
       " 'lpgica',\n",
       " 'lqgica',\n",
       " 'lrgica',\n",
       " 'lsgica',\n",
       " 'ltgica',\n",
       " 'lugica',\n",
       " 'lvgica',\n",
       " 'lwgica',\n",
       " 'lxgica',\n",
       " 'lygica',\n",
       " 'lzgica',\n",
       " 'làgica',\n",
       " 'lágica',\n",
       " 'lâgica',\n",
       " 'lãgica',\n",
       " 'lègica',\n",
       " 'légica',\n",
       " 'lêgica',\n",
       " 'lìgica',\n",
       " 'lígica',\n",
       " 'lîgica',\n",
       " 'lògica',\n",
       " 'lógica',\n",
       " 'lôgica',\n",
       " 'lõgica',\n",
       " 'lùgica',\n",
       " 'lúgica',\n",
       " 'lûgica',\n",
       " 'lçgica',\n",
       " 'lgaica',\n",
       " 'lgbica',\n",
       " 'lgcica',\n",
       " 'lgdica',\n",
       " 'lgeica',\n",
       " 'lgfica',\n",
       " 'lggica',\n",
       " 'lghica',\n",
       " 'lgiica',\n",
       " 'lgjica',\n",
       " 'lgkica',\n",
       " 'lglica',\n",
       " 'lgmica',\n",
       " 'lgnica',\n",
       " 'lgoica',\n",
       " 'lgpica',\n",
       " 'lgqica',\n",
       " 'lgrica',\n",
       " 'lgsica',\n",
       " 'lgtica',\n",
       " 'lguica',\n",
       " 'lgvica',\n",
       " 'lgwica',\n",
       " 'lgxica',\n",
       " 'lgyica',\n",
       " 'lgzica',\n",
       " 'lgàica',\n",
       " 'lgáica',\n",
       " 'lgâica',\n",
       " 'lgãica',\n",
       " 'lgèica',\n",
       " 'lgéica',\n",
       " 'lgêica',\n",
       " 'lgìica',\n",
       " 'lgíica',\n",
       " 'lgîica',\n",
       " 'lgòica',\n",
       " 'lgóica',\n",
       " 'lgôica',\n",
       " 'lgõica',\n",
       " 'lgùica',\n",
       " 'lgúica',\n",
       " 'lgûica',\n",
       " 'lgçica',\n",
       " 'lgiaca',\n",
       " 'lgibca',\n",
       " 'lgicca',\n",
       " 'lgidca',\n",
       " 'lgieca',\n",
       " 'lgifca',\n",
       " 'lgigca',\n",
       " 'lgihca',\n",
       " 'lgiica',\n",
       " 'lgijca',\n",
       " 'lgikca',\n",
       " 'lgilca',\n",
       " 'lgimca',\n",
       " 'lginca',\n",
       " 'lgioca',\n",
       " 'lgipca',\n",
       " 'lgiqca',\n",
       " 'lgirca',\n",
       " 'lgisca',\n",
       " 'lgitca',\n",
       " 'lgiuca',\n",
       " 'lgivca',\n",
       " 'lgiwca',\n",
       " 'lgixca',\n",
       " 'lgiyca',\n",
       " 'lgizca',\n",
       " 'lgiàca',\n",
       " 'lgiáca',\n",
       " 'lgiâca',\n",
       " 'lgiãca',\n",
       " 'lgièca',\n",
       " 'lgiéca',\n",
       " 'lgiêca',\n",
       " 'lgiìca',\n",
       " 'lgiíca',\n",
       " 'lgiîca',\n",
       " 'lgiòca',\n",
       " 'lgióca',\n",
       " 'lgiôca',\n",
       " 'lgiõca',\n",
       " 'lgiùca',\n",
       " 'lgiúca',\n",
       " 'lgiûca',\n",
       " 'lgiçca',\n",
       " 'lgicaa',\n",
       " 'lgicba',\n",
       " 'lgicca',\n",
       " 'lgicda',\n",
       " 'lgicea',\n",
       " 'lgicfa',\n",
       " 'lgicga',\n",
       " 'lgicha',\n",
       " 'lgicia',\n",
       " 'lgicja',\n",
       " 'lgicka',\n",
       " 'lgicla',\n",
       " 'lgicma',\n",
       " 'lgicna',\n",
       " 'lgicoa',\n",
       " 'lgicpa',\n",
       " 'lgicqa',\n",
       " 'lgicra',\n",
       " 'lgicsa',\n",
       " 'lgicta',\n",
       " 'lgicua',\n",
       " 'lgicva',\n",
       " 'lgicwa',\n",
       " 'lgicxa',\n",
       " 'lgicya',\n",
       " 'lgicza',\n",
       " 'lgicàa',\n",
       " 'lgicáa',\n",
       " 'lgicâa',\n",
       " 'lgicãa',\n",
       " 'lgicèa',\n",
       " 'lgicéa',\n",
       " 'lgicêa',\n",
       " 'lgicìa',\n",
       " 'lgicía',\n",
       " 'lgicîa',\n",
       " 'lgicòa',\n",
       " 'lgicóa',\n",
       " 'lgicôa',\n",
       " 'lgicõa',\n",
       " 'lgicùa',\n",
       " 'lgicúa',\n",
       " 'lgicûa',\n",
       " 'lgicça',\n",
       " 'lgicaa',\n",
       " 'lgicab',\n",
       " 'lgicac',\n",
       " 'lgicad',\n",
       " 'lgicae',\n",
       " 'lgicaf',\n",
       " 'lgicag',\n",
       " 'lgicah',\n",
       " 'lgicai',\n",
       " 'lgicaj',\n",
       " 'lgicak',\n",
       " 'lgical',\n",
       " 'lgicam',\n",
       " 'lgican',\n",
       " 'lgicao',\n",
       " 'lgicap',\n",
       " 'lgicaq',\n",
       " 'lgicar',\n",
       " 'lgicas',\n",
       " 'lgicat',\n",
       " 'lgicau',\n",
       " 'lgicav',\n",
       " 'lgicaw',\n",
       " 'lgicax',\n",
       " 'lgicay',\n",
       " 'lgicaz',\n",
       " 'lgicaà',\n",
       " 'lgicaá',\n",
       " 'lgicaâ',\n",
       " 'lgicaã',\n",
       " 'lgicaè',\n",
       " 'lgicaé',\n",
       " 'lgicaê',\n",
       " 'lgicaì',\n",
       " 'lgicaí',\n",
       " 'lgicaî',\n",
       " 'lgicaò',\n",
       " 'lgicaó',\n",
       " 'lgicaô',\n",
       " 'lgicaõ',\n",
       " 'lgicaù',\n",
       " 'lgicaú',\n",
       " 'lgicaû',\n",
       " 'lgicaç']"
      ]
     },
     "metadata": {},
     "execution_count": 34
    }
   ],
   "metadata": {}
  }
 ],
 "metadata": {
  "kernelspec": {
   "name": "python3",
   "display_name": "Python 3.9.0 64-bit"
  },
  "language_info": {
   "codemirror_mode": {
    "name": "ipython",
    "version": 3
   },
   "file_extension": ".py",
   "mimetype": "text/x-python",
   "name": "python",
   "nbconvert_exporter": "python",
   "pygments_lexer": "ipython3",
   "version": "3.9.0"
  },
  "interpreter": {
   "hash": "13a6a118be613b2ad8317f5dec8965befb6c3ab5c6f106237789316cbb94a753"
  }
 },
 "nbformat": 4,
 "nbformat_minor": 4
}